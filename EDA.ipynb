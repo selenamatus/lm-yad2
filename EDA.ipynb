{
 "cells": [
  {
   "cell_type": "markdown",
   "id": "10ddbfc4",
   "metadata": {},
   "source": [
    "# EDA "
   ]
  },
  {
   "cell_type": "markdown",
   "id": "92a4ebfe",
   "metadata": {},
   "source": [
    "Let's start with imports and reading the csv file into a DataFrame, then showing a few rows of it."
   ]
  },
  {
   "cell_type": "code",
   "execution_count": 6,
   "id": "2fca4275",
   "metadata": {},
   "outputs": [],
   "source": [
    "import pandas as pd\n",
    "import re\n",
    "import matplotlib.pyplot as plt\n",
    "import seaborn as sns\n",
    "from sklearn.preprocessing import LabelEncoder\n",
    "import matplotlib.pyplot as plt\n",
    "plt.rcParams['text.usetex'] = False"
   ]
  },
  {
   "cell_type": "code",
   "execution_count": 8,
   "id": "aabbb4f4",
   "metadata": {},
   "outputs": [],
   "source": [
    "df = pd.read_csv('concat_df.csv', encoding='utf-8')"
   ]
  },
  {
   "cell_type": "code",
   "execution_count": 9,
   "id": "4e21566c",
   "metadata": {},
   "outputs": [
    {
     "data": {
      "text/plain": [
       "143241"
      ]
     },
     "execution_count": 9,
     "metadata": {},
     "output_type": "execute_result"
    }
   ],
   "source": [
    "df.size"
   ]
  },
  {
   "cell_type": "markdown",
   "id": "8284980d",
   "metadata": {},
   "source": [
    "Total of 143241 entries in the dataset before cleaning."
   ]
  },
  {
   "cell_type": "code",
   "execution_count": 10,
   "id": "b9d997df",
   "metadata": {},
   "outputs": [
    {
     "data": {
      "text/html": [
       "<div>\n",
       "<style scoped>\n",
       "    .dataframe tbody tr th:only-of-type {\n",
       "        vertical-align: middle;\n",
       "    }\n",
       "\n",
       "    .dataframe tbody tr th {\n",
       "        vertical-align: top;\n",
       "    }\n",
       "\n",
       "    .dataframe thead th {\n",
       "        text-align: right;\n",
       "    }\n",
       "</style>\n",
       "<table border=\"1\" class=\"dataframe\">\n",
       "  <thead>\n",
       "    <tr style=\"text-align: right;\">\n",
       "      <th></th>\n",
       "      <th>Unnamed: 0.2</th>\n",
       "      <th>Unnamed: 0.1</th>\n",
       "      <th>Unnamed: 0</th>\n",
       "      <th>car_title</th>\n",
       "      <th>sub_model</th>\n",
       "      <th>year_of_manufactoring</th>\n",
       "      <th>num_of_owners</th>\n",
       "      <th>car_engine_size</th>\n",
       "      <th>price</th>\n",
       "      <th>air_pollution_rate</th>\n",
       "      <th>קילומטראז'</th>\n",
       "      <th>סוג מנוע</th>\n",
       "      <th>תיבת הילוכים</th>\n",
       "      <th>צבע</th>\n",
       "      <th>תאריך עליה לכביש</th>\n",
       "      <th>טסט עד</th>\n",
       "      <th>בעלות נוכחית</th>\n",
       "      <th>מותאם לנכים</th>\n",
       "      <th>בעלות קודמת</th>\n",
       "    </tr>\n",
       "  </thead>\n",
       "  <tbody>\n",
       "    <tr>\n",
       "      <th>0</th>\n",
       "      <td>0</td>\n",
       "      <td>0.0</td>\n",
       "      <td>0.0</td>\n",
       "      <td>ג'יפ / Jeep גרנד צ'ירוקי</td>\n",
       "      <td>4X4 Laredo + SR אוט' 3.6 (282 כ''ס)</td>\n",
       "      <td>2014</td>\n",
       "      <td>1</td>\n",
       "      <td>3,604</td>\n",
       "      <td>105000.0</td>\n",
       "      <td>5.0</td>\n",
       "      <td>209,000</td>\n",
       "      <td>בנזין</td>\n",
       "      <td>אוטומט</td>\n",
       "      <td>לבן</td>\n",
       "      <td>11/2014</td>\n",
       "      <td>11/2023</td>\n",
       "      <td>פרטית</td>\n",
       "      <td>לא</td>\n",
       "      <td>NaN</td>\n",
       "    </tr>\n",
       "    <tr>\n",
       "      <th>1</th>\n",
       "      <td>1</td>\n",
       "      <td>1.0</td>\n",
       "      <td>1.0</td>\n",
       "      <td>יונדאי טוסון</td>\n",
       "      <td>Open Sky אוט' בנזין 2.0 (155 כ\"ס)</td>\n",
       "      <td>2017</td>\n",
       "      <td>1</td>\n",
       "      <td>1,999</td>\n",
       "      <td>99000.0</td>\n",
       "      <td>15.0</td>\n",
       "      <td>130,000</td>\n",
       "      <td>בנזין</td>\n",
       "      <td>אוטומט</td>\n",
       "      <td>אפור</td>\n",
       "      <td>02/2017</td>\n",
       "      <td>02/2024</td>\n",
       "      <td>פרטית</td>\n",
       "      <td>לא</td>\n",
       "      <td>NaN</td>\n",
       "    </tr>\n",
       "    <tr>\n",
       "      <th>2</th>\n",
       "      <td>2</td>\n",
       "      <td>2.0</td>\n",
       "      <td>2.0</td>\n",
       "      <td>אאודי A6</td>\n",
       "      <td>C5 אוט' 2.8 (193 כ''ס)</td>\n",
       "      <td>1998</td>\n",
       "      <td>5</td>\n",
       "      <td>2,771</td>\n",
       "      <td>13000.0</td>\n",
       "      <td>NaN</td>\n",
       "      <td>341,500</td>\n",
       "      <td>בנזין</td>\n",
       "      <td>אוטומט</td>\n",
       "      <td>אפור</td>\n",
       "      <td>12/1998</td>\n",
       "      <td>07/2023</td>\n",
       "      <td>פרטית</td>\n",
       "      <td>לא</td>\n",
       "      <td>פרטית</td>\n",
       "    </tr>\n",
       "    <tr>\n",
       "      <th>3</th>\n",
       "      <td>3</td>\n",
       "      <td>3.0</td>\n",
       "      <td>3.0</td>\n",
       "      <td>מאזדה 3</td>\n",
       "      <td>Spirit הצ'בק אוט' 2.0 (165 כ''ס)</td>\n",
       "      <td>2020</td>\n",
       "      <td>1</td>\n",
       "      <td>1,998</td>\n",
       "      <td>124000.0</td>\n",
       "      <td>6.0</td>\n",
       "      <td>29,000</td>\n",
       "      <td>בנזין</td>\n",
       "      <td>אוטומט</td>\n",
       "      <td>כחול כהה מטאלי</td>\n",
       "      <td>05/2020</td>\n",
       "      <td>05/2024</td>\n",
       "      <td>פרטית</td>\n",
       "      <td>לא</td>\n",
       "      <td>NaN</td>\n",
       "    </tr>\n",
       "    <tr>\n",
       "      <th>4</th>\n",
       "      <td>4</td>\n",
       "      <td>4.0</td>\n",
       "      <td>4.0</td>\n",
       "      <td>פורד קוגה</td>\n",
       "      <td>Titanium X אוט' 1.5 (182 כ\"ס)</td>\n",
       "      <td>2018</td>\n",
       "      <td>1</td>\n",
       "      <td>1,498</td>\n",
       "      <td>60000.0</td>\n",
       "      <td>15.0</td>\n",
       "      <td>147,000</td>\n",
       "      <td>בנזין</td>\n",
       "      <td>אוטומט</td>\n",
       "      <td>כסוף מטאלי</td>\n",
       "      <td>06/2018</td>\n",
       "      <td>06/2023</td>\n",
       "      <td>פרטית</td>\n",
       "      <td>לא</td>\n",
       "      <td>NaN</td>\n",
       "    </tr>\n",
       "  </tbody>\n",
       "</table>\n",
       "</div>"
      ],
      "text/plain": [
       "   Unnamed: 0.2  Unnamed: 0.1  Unnamed: 0                 car_title  \\\n",
       "0             0           0.0         0.0  ג'יפ / Jeep גרנד צ'ירוקי   \n",
       "1             1           1.0         1.0              יונדאי טוסון   \n",
       "2             2           2.0         2.0                  אאודי A6   \n",
       "3             3           3.0         3.0                   מאזדה 3   \n",
       "4             4           4.0         4.0                 פורד קוגה   \n",
       "\n",
       "                             sub_model  year_of_manufactoring  num_of_owners  \\\n",
       "0  4X4 Laredo + SR אוט' 3.6 (282 כ''ס)                   2014              1   \n",
       "1    Open Sky אוט' בנזין 2.0 (155 כ\"ס)                   2017              1   \n",
       "2               C5 אוט' 2.8 (193 כ''ס)                   1998              5   \n",
       "3     Spirit הצ'בק אוט' 2.0 (165 כ''ס)                   2020              1   \n",
       "4        Titanium X אוט' 1.5 (182 כ\"ס)                   2018              1   \n",
       "\n",
       "  car_engine_size     price  air_pollution_rate קילומטראז' סוג מנוע  \\\n",
       "0           3,604  105000.0                 5.0    209,000    בנזין   \n",
       "1           1,999   99000.0                15.0    130,000    בנזין   \n",
       "2           2,771   13000.0                 NaN    341,500    בנזין   \n",
       "3           1,998  124000.0                 6.0     29,000    בנזין   \n",
       "4           1,498   60000.0                15.0    147,000    בנזין   \n",
       "\n",
       "  תיבת הילוכים             צבע תאריך עליה לכביש   טסט עד בעלות נוכחית  \\\n",
       "0       אוטומט             לבן          11/2014  11/2023        פרטית   \n",
       "1       אוטומט            אפור          02/2017  02/2024        פרטית   \n",
       "2       אוטומט            אפור          12/1998  07/2023        פרטית   \n",
       "3       אוטומט  כחול כהה מטאלי          05/2020  05/2024        פרטית   \n",
       "4       אוטומט      כסוף מטאלי          06/2018  06/2023        פרטית   \n",
       "\n",
       "  מותאם לנכים בעלות קודמת  \n",
       "0          לא         NaN  \n",
       "1          לא         NaN  \n",
       "2          לא       פרטית  \n",
       "3          לא         NaN  \n",
       "4          לא         NaN  "
      ]
     },
     "execution_count": 10,
     "metadata": {},
     "output_type": "execute_result"
    }
   ],
   "source": [
    "df.head()"
   ]
  },
  {
   "cell_type": "markdown",
   "id": "34b43372",
   "metadata": {},
   "source": [
    "According to the table we have found out that we need to handle with data that miss matches.\n",
    "- Deleting duplicate rows.\n",
    "-Deleting unnecessary columns that will help to refine the result in the machine learning phase\n",
    "-Changing the column names to English\n",
    "-Deleting None's\n",
    "-We wanted to extract a new horsepower column from the submodel column and then delete it.\n"
   ]
  },
  {
   "cell_type": "code",
   "execution_count": 11,
   "id": "1fd0f730",
   "metadata": {},
   "outputs": [],
   "source": [
    "df = df.drop('Unnamed: 0', axis=1)\n",
    "df = df.drop('Unnamed: 0.1', axis=1)\n",
    "df = df.drop('Unnamed: 0.2', axis=1)\n",
    "df = df.drop('בעלות קודמת', axis=1)\n",
    "\n",
    "df = df.rename(columns={\n",
    "    'קילומטראז\\'': 'Kilometers',\n",
    "    'סוג מנוע': 'Engine Type',\n",
    "    'תיבת הילוכים': 'Transmission',\n",
    "    'צבע': 'Color',\n",
    "    'תאריך עליה לכביש': 'First Registration Year',\n",
    "    'טסט עד': 'Test Valid Until',\n",
    "    'בעלות נוכחית': 'Current Ownership',\n",
    "    'מותאם לנכים': 'Suitable for Disabilities',\n",
    "})"
   ]
  },
  {
   "cell_type": "markdown",
   "id": "74223cfc",
   "metadata": {},
   "source": []
  },
  {
   "cell_type": "code",
   "execution_count": 12,
   "id": "a2f84b7b",
   "metadata": {},
   "outputs": [
    {
     "data": {
      "text/plain": [
       "Index(['car_title', 'sub_model', 'year_of_manufactoring', 'num_of_owners',\n",
       "       'car_engine_size', 'price', 'air_pollution_rate', 'Kilometers',\n",
       "       'Engine Type', 'Transmission', 'Color', 'First Registration Year',\n",
       "       'Test Valid Until', 'Current Ownership', 'Suitable for Disabilities'],\n",
       "      dtype='object')"
      ]
     },
     "execution_count": 12,
     "metadata": {},
     "output_type": "execute_result"
    }
   ],
   "source": [
    "df.columns"
   ]
  },
  {
   "cell_type": "code",
   "execution_count": 13,
   "id": "beb5914d",
   "metadata": {},
   "outputs": [
    {
     "name": "stdout",
     "output_type": "stream",
     "text": [
      "There are 7539 rows in the DataFrame before cleaning\n",
      "There are 3657 rows in the DataFrame after cleaning\n"
     ]
    }
   ],
   "source": [
    "print('There are {} rows in the DataFrame before cleaning'.format(df.shape[0]))\n",
    "df = df.dropna()\n",
    "df = df.drop_duplicates()\n",
    "print('There are {} rows in the DataFrame after cleaning'.format(df.shape[0]))\n"
   ]
  },
  {
   "cell_type": "code",
   "execution_count": 14,
   "id": "9c62d0b7",
   "metadata": {},
   "outputs": [],
   "source": [
    "df['Horse Power'] = df['sub_model'].apply(lambda x: re.search(r'\\((\\d+)[^)]*\\)', x).group(1) if re.search(r'\\((\\d+)[^)]*\\)', x) else None)\n",
    "df = df.drop('sub_model', axis=1)"
   ]
  },
  {
   "cell_type": "markdown",
   "id": "6c4f9963",
   "metadata": {},
   "source": [
    "------------------\n",
    "We converted the data from string data to numeric data and deleted commas so that the conversion to integer happened without errors.\n",
    "\n",
    "In the \"date of putting it on the road\" and the \"test\", we extract only the year."
   ]
  },
  {
   "cell_type": "code",
   "execution_count": 15,
   "id": "738ba903",
   "metadata": {},
   "outputs": [
    {
     "name": "stderr",
     "output_type": "stream",
     "text": [
      "C:\\Users\\97252\\AppData\\Local\\Temp\\ipykernel_17936\\2298904829.py:3: DeprecationWarning: In a future version, `df.iloc[:, i] = newvals` will attempt to set the values inplace instead of always setting a new array. To retain the old behavior, use either `df[df.columns[i]] = newvals` or, if columns are non-unique, `df.isetitem(i, newvals)`\n",
      "  df.loc[:, 'price'] = df['price'].astype(int)\n",
      "C:\\Users\\97252\\AppData\\Local\\Temp\\ipykernel_17936\\2298904829.py:4: DeprecationWarning: In a future version, `df.iloc[:, i] = newvals` will attempt to set the values inplace instead of always setting a new array. To retain the old behavior, use either `df[df.columns[i]] = newvals` or, if columns are non-unique, `df.isetitem(i, newvals)`\n",
      "  df.loc[:, 'Horse Power'] = df['Horse Power'].astype(int)\n"
     ]
    }
   ],
   "source": [
    "df['car_engine_size'] = df['car_engine_size'].replace(',', '', regex=True).astype(int)\n",
    "df['air_pollution_rate'] = df['air_pollution_rate'].astype(int)\n",
    "df.loc[:, 'price'] = df['price'].astype(int)\n",
    "df.loc[:, 'Horse Power'] = df['Horse Power'].astype(int)\n",
    "df['Kilometers'] = df['Kilometers'].replace(',', '', regex=True).astype(int)\n",
    "\n",
    "df['First Registration Year'] = df['First Registration Year'].str.split('/').str[1].astype(int)\n",
    "df['Test Valid Until'] = df['Test Valid Until'].str.split('/').str[1].astype(int)"
   ]
  },
  {
   "cell_type": "markdown",
   "id": "ab7f11ff",
   "metadata": {},
   "source": [
    "### Let's observe the changes:"
   ]
  },
  {
   "cell_type": "code",
   "execution_count": 17,
   "id": "495d81da",
   "metadata": {},
   "outputs": [
    {
     "data": {
      "text/html": [
       "<div>\n",
       "<style scoped>\n",
       "    .dataframe tbody tr th:only-of-type {\n",
       "        vertical-align: middle;\n",
       "    }\n",
       "\n",
       "    .dataframe tbody tr th {\n",
       "        vertical-align: top;\n",
       "    }\n",
       "\n",
       "    .dataframe thead th {\n",
       "        text-align: right;\n",
       "    }\n",
       "</style>\n",
       "<table border=\"1\" class=\"dataframe\">\n",
       "  <thead>\n",
       "    <tr style=\"text-align: right;\">\n",
       "      <th></th>\n",
       "      <th>car_title</th>\n",
       "      <th>year_of_manufactoring</th>\n",
       "      <th>num_of_owners</th>\n",
       "      <th>car_engine_size</th>\n",
       "      <th>price</th>\n",
       "      <th>air_pollution_rate</th>\n",
       "      <th>Kilometers</th>\n",
       "      <th>Engine Type</th>\n",
       "      <th>Transmission</th>\n",
       "      <th>Color</th>\n",
       "      <th>First Registration Year</th>\n",
       "      <th>Test Valid Until</th>\n",
       "      <th>Current Ownership</th>\n",
       "      <th>Suitable for Disabilities</th>\n",
       "      <th>Horse Power</th>\n",
       "    </tr>\n",
       "  </thead>\n",
       "  <tbody>\n",
       "    <tr>\n",
       "      <th>0</th>\n",
       "      <td>ג'יפ / Jeep גרנד צ'ירוקי</td>\n",
       "      <td>2014</td>\n",
       "      <td>1</td>\n",
       "      <td>3604</td>\n",
       "      <td>105000</td>\n",
       "      <td>5</td>\n",
       "      <td>209000</td>\n",
       "      <td>בנזין</td>\n",
       "      <td>אוטומט</td>\n",
       "      <td>לבן</td>\n",
       "      <td>2014</td>\n",
       "      <td>2023</td>\n",
       "      <td>פרטית</td>\n",
       "      <td>לא</td>\n",
       "      <td>282</td>\n",
       "    </tr>\n",
       "    <tr>\n",
       "      <th>1</th>\n",
       "      <td>יונדאי טוסון</td>\n",
       "      <td>2017</td>\n",
       "      <td>1</td>\n",
       "      <td>1999</td>\n",
       "      <td>99000</td>\n",
       "      <td>15</td>\n",
       "      <td>130000</td>\n",
       "      <td>בנזין</td>\n",
       "      <td>אוטומט</td>\n",
       "      <td>אפור</td>\n",
       "      <td>2017</td>\n",
       "      <td>2024</td>\n",
       "      <td>פרטית</td>\n",
       "      <td>לא</td>\n",
       "      <td>155</td>\n",
       "    </tr>\n",
       "    <tr>\n",
       "      <th>3</th>\n",
       "      <td>מאזדה 3</td>\n",
       "      <td>2020</td>\n",
       "      <td>1</td>\n",
       "      <td>1998</td>\n",
       "      <td>124000</td>\n",
       "      <td>6</td>\n",
       "      <td>29000</td>\n",
       "      <td>בנזין</td>\n",
       "      <td>אוטומט</td>\n",
       "      <td>כחול כהה מטאלי</td>\n",
       "      <td>2020</td>\n",
       "      <td>2024</td>\n",
       "      <td>פרטית</td>\n",
       "      <td>לא</td>\n",
       "      <td>165</td>\n",
       "    </tr>\n",
       "    <tr>\n",
       "      <th>4</th>\n",
       "      <td>פורד קוגה</td>\n",
       "      <td>2018</td>\n",
       "      <td>1</td>\n",
       "      <td>1498</td>\n",
       "      <td>60000</td>\n",
       "      <td>15</td>\n",
       "      <td>147000</td>\n",
       "      <td>בנזין</td>\n",
       "      <td>אוטומט</td>\n",
       "      <td>כסוף מטאלי</td>\n",
       "      <td>2018</td>\n",
       "      <td>2023</td>\n",
       "      <td>פרטית</td>\n",
       "      <td>לא</td>\n",
       "      <td>182</td>\n",
       "    </tr>\n",
       "    <tr>\n",
       "      <th>5</th>\n",
       "      <td>אופל אסטרה</td>\n",
       "      <td>2015</td>\n",
       "      <td>2</td>\n",
       "      <td>1364</td>\n",
       "      <td>18000</td>\n",
       "      <td>15</td>\n",
       "      <td>165000</td>\n",
       "      <td>בנזין</td>\n",
       "      <td>אוטומט</td>\n",
       "      <td>שחור מטאלי</td>\n",
       "      <td>2015</td>\n",
       "      <td>2024</td>\n",
       "      <td>פרטית</td>\n",
       "      <td>לא</td>\n",
       "      <td>140</td>\n",
       "    </tr>\n",
       "  </tbody>\n",
       "</table>\n",
       "</div>"
      ],
      "text/plain": [
       "                  car_title  year_of_manufactoring  num_of_owners  \\\n",
       "0  ג'יפ / Jeep גרנד צ'ירוקי                   2014              1   \n",
       "1              יונדאי טוסון                   2017              1   \n",
       "3                   מאזדה 3                   2020              1   \n",
       "4                 פורד קוגה                   2018              1   \n",
       "5                אופל אסטרה                   2015              2   \n",
       "\n",
       "   car_engine_size   price  air_pollution_rate  Kilometers Engine Type  \\\n",
       "0             3604  105000                   5      209000       בנזין   \n",
       "1             1999   99000                  15      130000       בנזין   \n",
       "3             1998  124000                   6       29000       בנזין   \n",
       "4             1498   60000                  15      147000       בנזין   \n",
       "5             1364   18000                  15      165000       בנזין   \n",
       "\n",
       "  Transmission           Color  First Registration Year  Test Valid Until  \\\n",
       "0       אוטומט             לבן                     2014              2023   \n",
       "1       אוטומט            אפור                     2017              2024   \n",
       "3       אוטומט  כחול כהה מטאלי                     2020              2024   \n",
       "4       אוטומט      כסוף מטאלי                     2018              2023   \n",
       "5       אוטומט      שחור מטאלי                     2015              2024   \n",
       "\n",
       "  Current Ownership Suitable for Disabilities  Horse Power  \n",
       "0             פרטית                        לא          282  \n",
       "1             פרטית                        לא          155  \n",
       "3             פרטית                        לא          165  \n",
       "4             פרטית                        לא          182  \n",
       "5             פרטית                        לא          140  "
      ]
     },
     "execution_count": 17,
     "metadata": {},
     "output_type": "execute_result"
    }
   ],
   "source": [
    "df.head()"
   ]
  },
  {
   "cell_type": "markdown",
   "id": "8e0a4979",
   "metadata": {},
   "source": [
    "## Some conclusions about the data frame:"
   ]
  },
  {
   "cell_type": "code",
   "execution_count": 18,
   "id": "6fd0fee9",
   "metadata": {},
   "outputs": [
    {
     "data": {
      "text/plain": [
       "יונדאי טוסון             97\n",
       "קיה ספורטז'              93\n",
       "מיצובישי אאוטלנדר        91\n",
       "קיה פיקנטו               84\n",
       "ניסאן קשקאי              83\n",
       "                         ..\n",
       "דודג' קאליבר              1\n",
       "צ'רי / Chery FX           1\n",
       "מיצובישי לנסר ספורטבק     1\n",
       "ב.מ.וו i8                 1\n",
       "די.אס / DS DS5            1\n",
       "Name: car_title, Length: 424, dtype: int64"
      ]
     },
     "execution_count": 18,
     "metadata": {},
     "output_type": "execute_result"
    }
   ],
   "source": [
    "df['car_title'].value_counts()"
   ]
  },
  {
   "cell_type": "code",
   "execution_count": 54,
   "id": "ddcda341",
   "metadata": {},
   "outputs": [
    {
     "data": {
      "text/plain": [
       "2018    460\n",
       "2019    452\n",
       "2017    445\n",
       "2020    349\n",
       "2016    347\n",
       "2021    290\n",
       "2015    250\n",
       "2014    197\n",
       "2022    193\n",
       "2012    140\n",
       "2013    131\n",
       "2010    106\n",
       "2011     97\n",
       "2008     75\n",
       "2009     64\n",
       "2023     31\n",
       "2007     16\n",
       "2006     10\n",
       "2005      3\n",
       "2004      1\n",
       "Name: year_of_manufactoring, dtype: int64"
      ]
     },
     "execution_count": 54,
     "metadata": {},
     "output_type": "execute_result"
    }
   ],
   "source": [
    "df['year_of_manufactoring'].value_counts()"
   ]
  },
  {
   "cell_type": "code",
   "execution_count": 19,
   "id": "39d63b65",
   "metadata": {},
   "outputs": [
    {
     "data": {
      "text/plain": [
       "115848.64752529396"
      ]
     },
     "execution_count": 19,
     "metadata": {},
     "output_type": "execute_result"
    }
   ],
   "source": [
    "df['price'].mean()"
   ]
  },
  {
   "cell_type": "markdown",
   "id": "de1a1771",
   "metadata": {},
   "source": [
    "-------------\n",
    "The most popular car brands on the data frame are:\n",
    "- Hyundai\n",
    "- Kia\n",
    "- Mitsubishi\n",
    "\n",
    "\n",
    "#### Most of the cars were produced between 2017-2019.\n",
    "\n",
    "#### The average price for a car in the data frame (before taking care of outliers!) is 115,413 Shekels.\n",
    "-------------"
   ]
  },
  {
   "cell_type": "code",
   "execution_count": 20,
   "id": "cc428e9c",
   "metadata": {},
   "outputs": [
    {
     "data": {
      "image/png": "[encoded data removed]",
      "text/plain": [
       "<Figure size 640x480 with 1 Axes>"
      ]
     },
     "metadata": {},
     "output_type": "display_data"
    }
   ],
   "source": [
    "import matplotlib.pyplot as plt\n",
    "\n",
    "# Get the top 5 colors\n",
    "top_colors = df['Color'].value_counts().head(5)\n",
    "\n",
    "# Pie chart of the top 5 colors with LTR text direction\n",
    "plt.pie(top_colors, labels=top_colors.index, autopct='%1.1f%%')\n",
    "plt.title('Top 5 Colors')\n",
    "plt.show()\n",
    "\n",
    "# Disable Hebrew font\n",
    "import matplotlib.pyplot as plt\n",
    "plt.rcParams['font.family'] = 'sans-serif'\n",
    "plt.rcParams['font.sans-serif'] = ['Arial']\n",
    "plt.rcParams['text.usetex'] = False"
   ]
  },
  {
   "cell_type": "markdown",
   "id": "d278608f",
   "metadata": {},
   "source": [
    "### This pie chart describes that the most popular car colors and White and Black.\n",
    "\n",
    "------------"
   ]
  },
  {
   "cell_type": "code",
   "execution_count": 57,
   "id": "d12c1473",
   "metadata": {},
   "outputs": [
    {
     "name": "stdout",
     "output_type": "stream",
     "text": [
      "<class 'pandas.core.frame.DataFrame'>\n",
      "Int64Index: 3657 entries, 0 to 7537\n",
      "Data columns (total 15 columns):\n",
      " #   Column                     Non-Null Count  Dtype \n",
      "---  ------                     --------------  ----- \n",
      " 0   car_title                  3657 non-null   object\n",
      " 1   year_of_manufactoring      3657 non-null   int64 \n",
      " 2   num_of_owners              3657 non-null   int64 \n",
      " 3   car_engine_size            3657 non-null   int32 \n",
      " 4   price                      3657 non-null   int32 \n",
      " 5   air_pollution_rate         3657 non-null   int32 \n",
      " 6   Kilometers                 3657 non-null   int32 \n",
      " 7   Engine Type                3657 non-null   object\n",
      " 8   Transmission               3657 non-null   object\n",
      " 9   Color                      3657 non-null   object\n",
      " 10  First Registration Year    3657 non-null   int32 \n",
      " 11  Test Valid Until           3657 non-null   int32 \n",
      " 12  Current Ownership          3657 non-null   object\n",
      " 13  Suitable for Disabilities  3657 non-null   object\n",
      " 14  Horse Power                3657 non-null   int32 \n",
      "dtypes: int32(7), int64(2), object(6)\n",
      "memory usage: 357.1+ KB\n"
     ]
    }
   ],
   "source": [
    "df.info()"
   ]
  },
  {
   "cell_type": "markdown",
   "id": "053c820d",
   "metadata": {},
   "source": [
    "Let's check how many unique values there are in the categorical columns, and convert them into numerical ones later."
   ]
  },
  {
   "cell_type": "code",
   "execution_count": 58,
   "id": "43a479a2",
   "metadata": {},
   "outputs": [
    {
     "name": "stdout",
     "output_type": "stream",
     "text": [
      "424\n",
      "5\n",
      "47\n",
      "9\n",
      "4\n",
      "2\n"
     ]
    }
   ],
   "source": [
    "print(df['car_title'].nunique())\n",
    "print(df['Engine Type'].nunique())\n",
    "print(df['Color'].nunique())\n",
    "print(df['Current Ownership'].nunique())\n",
    "print(df['Transmission'].nunique())\n",
    "print(df['Suitable for Disabilities'].nunique())"
   ]
  },
  {
   "cell_type": "markdown",
   "id": "7cf2298f",
   "metadata": {},
   "source": [
    "-----------------------\n",
    "car_title - 424 unique values\n",
    "\n",
    "Engine Type - 5 unique values\n",
    "\n",
    "Color - 47 unique values\n",
    "\n",
    "Current Ownership - 9 unique values\n",
    "\n",
    "Transmission - 4 unique values\n",
    "\n",
    "Suitable for Disabilities - 2 unique values (yes or no)\n",
    "\n",
    "-----------------------"
   ]
  },
  {
   "cell_type": "markdown",
   "id": "23fe3eec",
   "metadata": {},
   "source": [
    "describe() function shows information and statistics about the DataFrame, thus we can infer which columns need to be handled seperately (for example: outliers)"
   ]
  },
  {
   "cell_type": "code",
   "execution_count": 59,
   "id": "6b8bc9f0",
   "metadata": {},
   "outputs": [
    {
     "data": {
      "text/html": [
       "<div>\n",
       "<style scoped>\n",
       "    .dataframe tbody tr th:only-of-type {\n",
       "        vertical-align: middle;\n",
       "    }\n",
       "\n",
       "    .dataframe tbody tr th {\n",
       "        vertical-align: top;\n",
       "    }\n",
       "\n",
       "    .dataframe thead th {\n",
       "        text-align: right;\n",
       "    }\n",
       "</style>\n",
       "<table border=\"1\" class=\"dataframe\">\n",
       "  <thead>\n",
       "    <tr style=\"text-align: right;\">\n",
       "      <th></th>\n",
       "      <th>year_of_manufactoring</th>\n",
       "      <th>num_of_owners</th>\n",
       "      <th>car_engine_size</th>\n",
       "      <th>price</th>\n",
       "      <th>air_pollution_rate</th>\n",
       "      <th>Kilometers</th>\n",
       "      <th>First Registration Year</th>\n",
       "      <th>Test Valid Until</th>\n",
       "      <th>Horse Power</th>\n",
       "    </tr>\n",
       "  </thead>\n",
       "  <tbody>\n",
       "    <tr>\n",
       "      <th>count</th>\n",
       "      <td>3657.000000</td>\n",
       "      <td>3657.000000</td>\n",
       "      <td>3657.000000</td>\n",
       "      <td>3.657000e+03</td>\n",
       "      <td>3657.000000</td>\n",
       "      <td>3.657000e+03</td>\n",
       "      <td>3657.000000</td>\n",
       "      <td>3657.000000</td>\n",
       "      <td>3657.000000</td>\n",
       "    </tr>\n",
       "    <tr>\n",
       "      <th>mean</th>\n",
       "      <td>2016.789445</td>\n",
       "      <td>1.861362</td>\n",
       "      <td>1854.445721</td>\n",
       "      <td>1.158486e+05</td>\n",
       "      <td>8.640416</td>\n",
       "      <td>1.100614e+05</td>\n",
       "      <td>2016.789445</td>\n",
       "      <td>2023.530763</td>\n",
       "      <td>161.908942</td>\n",
       "    </tr>\n",
       "    <tr>\n",
       "      <th>std</th>\n",
       "      <td>3.578285</td>\n",
       "      <td>1.075222</td>\n",
       "      <td>670.026513</td>\n",
       "      <td>2.099122e+05</td>\n",
       "      <td>5.533174</td>\n",
       "      <td>7.483898e+04</td>\n",
       "      <td>3.578285</td>\n",
       "      <td>0.519001</td>\n",
       "      <td>70.896665</td>\n",
       "    </tr>\n",
       "    <tr>\n",
       "      <th>min</th>\n",
       "      <td>2004.000000</td>\n",
       "      <td>0.000000</td>\n",
       "      <td>875.000000</td>\n",
       "      <td>5.000000e+03</td>\n",
       "      <td>1.000000</td>\n",
       "      <td>1.000000e+00</td>\n",
       "      <td>2004.000000</td>\n",
       "      <td>2023.000000</td>\n",
       "      <td>60.000000</td>\n",
       "    </tr>\n",
       "    <tr>\n",
       "      <th>25%</th>\n",
       "      <td>2015.000000</td>\n",
       "      <td>1.000000</td>\n",
       "      <td>1461.000000</td>\n",
       "      <td>5.200000e+04</td>\n",
       "      <td>4.000000</td>\n",
       "      <td>5.500000e+04</td>\n",
       "      <td>2015.000000</td>\n",
       "      <td>2023.000000</td>\n",
       "      <td>115.000000</td>\n",
       "    </tr>\n",
       "    <tr>\n",
       "      <th>50%</th>\n",
       "      <td>2017.000000</td>\n",
       "      <td>2.000000</td>\n",
       "      <td>1598.000000</td>\n",
       "      <td>8.800000e+04</td>\n",
       "      <td>8.000000</td>\n",
       "      <td>1.000000e+05</td>\n",
       "      <td>2017.000000</td>\n",
       "      <td>2024.000000</td>\n",
       "      <td>150.000000</td>\n",
       "    </tr>\n",
       "    <tr>\n",
       "      <th>75%</th>\n",
       "      <td>2019.000000</td>\n",
       "      <td>2.000000</td>\n",
       "      <td>1998.000000</td>\n",
       "      <td>1.350000e+05</td>\n",
       "      <td>15.000000</td>\n",
       "      <td>1.500000e+05</td>\n",
       "      <td>2019.000000</td>\n",
       "      <td>2024.000000</td>\n",
       "      <td>180.000000</td>\n",
       "    </tr>\n",
       "    <tr>\n",
       "      <th>max</th>\n",
       "      <td>2023.000000</td>\n",
       "      <td>10.000000</td>\n",
       "      <td>6700.000000</td>\n",
       "      <td>1.111111e+07</td>\n",
       "      <td>15.000000</td>\n",
       "      <td>1.150000e+06</td>\n",
       "      <td>2023.000000</td>\n",
       "      <td>2026.000000</td>\n",
       "      <td>661.000000</td>\n",
       "    </tr>\n",
       "  </tbody>\n",
       "</table>\n",
       "</div>"
      ],
      "text/plain": [
       "       year_of_manufactoring  num_of_owners  car_engine_size         price  \\\n",
       "count            3657.000000    3657.000000      3657.000000  3.657000e+03   \n",
       "mean             2016.789445       1.861362      1854.445721  1.158486e+05   \n",
       "std                 3.578285       1.075222       670.026513  2.099122e+05   \n",
       "min              2004.000000       0.000000       875.000000  5.000000e+03   \n",
       "25%              2015.000000       1.000000      1461.000000  5.200000e+04   \n",
       "50%              2017.000000       2.000000      1598.000000  8.800000e+04   \n",
       "75%              2019.000000       2.000000      1998.000000  1.350000e+05   \n",
       "max              2023.000000      10.000000      6700.000000  1.111111e+07   \n",
       "\n",
       "       air_pollution_rate    Kilometers  First Registration Year  \\\n",
       "count         3657.000000  3.657000e+03              3657.000000   \n",
       "mean             8.640416  1.100614e+05              2016.789445   \n",
       "std              5.533174  7.483898e+04                 3.578285   \n",
       "min              1.000000  1.000000e+00              2004.000000   \n",
       "25%              4.000000  5.500000e+04              2015.000000   \n",
       "50%              8.000000  1.000000e+05              2017.000000   \n",
       "75%             15.000000  1.500000e+05              2019.000000   \n",
       "max             15.000000  1.150000e+06              2023.000000   \n",
       "\n",
       "       Test Valid Until  Horse Power  \n",
       "count       3657.000000  3657.000000  \n",
       "mean        2023.530763   161.908942  \n",
       "std            0.519001    70.896665  \n",
       "min         2023.000000    60.000000  \n",
       "25%         2023.000000   115.000000  \n",
       "50%         2024.000000   150.000000  \n",
       "75%         2024.000000   180.000000  \n",
       "max         2026.000000   661.000000  "
      ]
     },
     "execution_count": 59,
     "metadata": {},
     "output_type": "execute_result"
    }
   ],
   "source": [
    "df.describe()"
   ]
  },
  {
   "cell_type": "markdown",
   "id": "ae987d15",
   "metadata": {},
   "source": [
    "# Handling outliers"
   ]
  },
  {
   "cell_type": "code",
   "execution_count": 60,
   "id": "4d2cde2b",
   "metadata": {},
   "outputs": [],
   "source": [
    "Q1 = df['price'].quantile(0.25)\n",
    "Q3 = df['price'].quantile(0.75)\n",
    "IQR = Q3 - Q1\n",
    "\n",
    "# Define the lower and upper bounds to identify outliers, as taught on course\n",
    "lower_bound = Q1 - 1.5 * IQR\n",
    "upper_bound = Q3 + 1.5 * IQR\n",
    "\n",
    "# Remove outliers from the DataFrame, we used ChatGPT to write this specific command.\n",
    "df = df[~((df['price'] < lower_bound) | (df['price'] > upper_bound))]\n",
    "\n",
    "# Balancing the average of this column, so we limit the car limit to 200,000 shekels\n",
    "df = df[df['price'] < 200000]"
   ]
  },
  {
   "cell_type": "code",
   "execution_count": 61,
   "id": "54983345",
   "metadata": {},
   "outputs": [],
   "source": [
    "Q1 = df['Kilometers'].quantile(0.25)\n",
    "Q3 = df['Kilometers'].quantile(0.75)\n",
    "IQR = Q3 - Q1\n",
    "\n",
    "lower_bound = Q1 - 1.5 * IQR\n",
    "upper_bound = Q3 + 1.5 * IQR\n",
    "\n",
    "# Excluding the outliers that were calculated before\n",
    "df = df[(df['Kilometers'] >= lower_bound) & (df['Kilometers'] <= upper_bound)]"
   ]
  },
  {
   "cell_type": "code",
   "execution_count": 62,
   "id": "69976589",
   "metadata": {},
   "outputs": [
    {
     "data": {
      "text/html": [
       "<div>\n",
       "<style scoped>\n",
       "    .dataframe tbody tr th:only-of-type {\n",
       "        vertical-align: middle;\n",
       "    }\n",
       "\n",
       "    .dataframe tbody tr th {\n",
       "        vertical-align: top;\n",
       "    }\n",
       "\n",
       "    .dataframe thead th {\n",
       "        text-align: right;\n",
       "    }\n",
       "</style>\n",
       "<table border=\"1\" class=\"dataframe\">\n",
       "  <thead>\n",
       "    <tr style=\"text-align: right;\">\n",
       "      <th></th>\n",
       "      <th>year_of_manufactoring</th>\n",
       "      <th>num_of_owners</th>\n",
       "      <th>car_engine_size</th>\n",
       "      <th>price</th>\n",
       "      <th>air_pollution_rate</th>\n",
       "      <th>Kilometers</th>\n",
       "      <th>First Registration Year</th>\n",
       "      <th>Test Valid Until</th>\n",
       "      <th>Horse Power</th>\n",
       "    </tr>\n",
       "  </thead>\n",
       "  <tbody>\n",
       "    <tr>\n",
       "      <th>count</th>\n",
       "      <td>3148.000000</td>\n",
       "      <td>3148.000000</td>\n",
       "      <td>3148.000000</td>\n",
       "      <td>3148.000000</td>\n",
       "      <td>3148.000000</td>\n",
       "      <td>3148.000000</td>\n",
       "      <td>3148.000000</td>\n",
       "      <td>3148.000000</td>\n",
       "      <td>3148.000000</td>\n",
       "    </tr>\n",
       "    <tr>\n",
       "      <th>mean</th>\n",
       "      <td>2016.468234</td>\n",
       "      <td>1.891677</td>\n",
       "      <td>1760.345299</td>\n",
       "      <td>84348.775095</td>\n",
       "      <td>8.733799</td>\n",
       "      <td>112221.572109</td>\n",
       "      <td>2016.468234</td>\n",
       "      <td>2023.522872</td>\n",
       "      <td>146.814485</td>\n",
       "    </tr>\n",
       "    <tr>\n",
       "      <th>std</th>\n",
       "      <td>3.444500</td>\n",
       "      <td>1.055508</td>\n",
       "      <td>588.257374</td>\n",
       "      <td>45472.565642</td>\n",
       "      <td>5.576259</td>\n",
       "      <td>61976.207393</td>\n",
       "      <td>3.444500</td>\n",
       "      <td>0.509008</td>\n",
       "      <td>51.703580</td>\n",
       "    </tr>\n",
       "    <tr>\n",
       "      <th>min</th>\n",
       "      <td>2006.000000</td>\n",
       "      <td>0.000000</td>\n",
       "      <td>875.000000</td>\n",
       "      <td>5500.000000</td>\n",
       "      <td>1.000000</td>\n",
       "      <td>1.000000</td>\n",
       "      <td>2006.000000</td>\n",
       "      <td>2023.000000</td>\n",
       "      <td>60.000000</td>\n",
       "    </tr>\n",
       "    <tr>\n",
       "      <th>25%</th>\n",
       "      <td>2015.000000</td>\n",
       "      <td>1.000000</td>\n",
       "      <td>1395.000000</td>\n",
       "      <td>48000.000000</td>\n",
       "      <td>4.000000</td>\n",
       "      <td>64225.000000</td>\n",
       "      <td>2015.000000</td>\n",
       "      <td>2023.000000</td>\n",
       "      <td>112.000000</td>\n",
       "    </tr>\n",
       "    <tr>\n",
       "      <th>50%</th>\n",
       "      <td>2017.000000</td>\n",
       "      <td>2.000000</td>\n",
       "      <td>1598.000000</td>\n",
       "      <td>80000.000000</td>\n",
       "      <td>9.000000</td>\n",
       "      <td>107000.000000</td>\n",
       "      <td>2017.000000</td>\n",
       "      <td>2024.000000</td>\n",
       "      <td>141.000000</td>\n",
       "    </tr>\n",
       "    <tr>\n",
       "      <th>75%</th>\n",
       "      <td>2019.000000</td>\n",
       "      <td>2.000000</td>\n",
       "      <td>1998.000000</td>\n",
       "      <td>114900.000000</td>\n",
       "      <td>15.000000</td>\n",
       "      <td>151000.000000</td>\n",
       "      <td>2019.000000</td>\n",
       "      <td>2024.000000</td>\n",
       "      <td>165.000000</td>\n",
       "    </tr>\n",
       "    <tr>\n",
       "      <th>max</th>\n",
       "      <td>2023.000000</td>\n",
       "      <td>8.000000</td>\n",
       "      <td>6600.000000</td>\n",
       "      <td>199900.000000</td>\n",
       "      <td>15.000000</td>\n",
       "      <td>290000.000000</td>\n",
       "      <td>2023.000000</td>\n",
       "      <td>2026.000000</td>\n",
       "      <td>445.000000</td>\n",
       "    </tr>\n",
       "  </tbody>\n",
       "</table>\n",
       "</div>"
      ],
      "text/plain": [
       "       year_of_manufactoring  num_of_owners  car_engine_size          price  \\\n",
       "count            3148.000000    3148.000000      3148.000000    3148.000000   \n",
       "mean             2016.468234       1.891677      1760.345299   84348.775095   \n",
       "std                 3.444500       1.055508       588.257374   45472.565642   \n",
       "min              2006.000000       0.000000       875.000000    5500.000000   \n",
       "25%              2015.000000       1.000000      1395.000000   48000.000000   \n",
       "50%              2017.000000       2.000000      1598.000000   80000.000000   \n",
       "75%              2019.000000       2.000000      1998.000000  114900.000000   \n",
       "max              2023.000000       8.000000      6600.000000  199900.000000   \n",
       "\n",
       "       air_pollution_rate     Kilometers  First Registration Year  \\\n",
       "count         3148.000000    3148.000000              3148.000000   \n",
       "mean             8.733799  112221.572109              2016.468234   \n",
       "std              5.576259   61976.207393                 3.444500   \n",
       "min              1.000000       1.000000              2006.000000   \n",
       "25%              4.000000   64225.000000              2015.000000   \n",
       "50%              9.000000  107000.000000              2017.000000   \n",
       "75%             15.000000  151000.000000              2019.000000   \n",
       "max             15.000000  290000.000000              2023.000000   \n",
       "\n",
       "       Test Valid Until  Horse Power  \n",
       "count       3148.000000  3148.000000  \n",
       "mean        2023.522872   146.814485  \n",
       "std            0.509008    51.703580  \n",
       "min         2023.000000    60.000000  \n",
       "25%         2023.000000   112.000000  \n",
       "50%         2024.000000   141.000000  \n",
       "75%         2024.000000   165.000000  \n",
       "max         2026.000000   445.000000  "
      ]
     },
     "execution_count": 62,
     "metadata": {},
     "output_type": "execute_result"
    }
   ],
   "source": [
    "df.describe()"
   ]
  },
  {
   "cell_type": "markdown",
   "id": "2fe360ce",
   "metadata": {},
   "source": [
    "As you can see, we normalized the price and mileage columns and got more reliable data.\n",
    "Emphasis on the kilometers column."
   ]
  },
  {
   "cell_type": "markdown",
   "id": "e8eb166b",
   "metadata": {},
   "source": [
    "------\n",
    "Correlation table that shows the connections between the numerical features in our data set:"
   ]
  },
  {
   "cell_type": "code",
   "execution_count": 63,
   "id": "ba74514e",
   "metadata": {},
   "outputs": [
    {
     "data": {
      "image/png": "[encoded data removed]",
      "text/plain": [
       "<Figure size 640x480 with 2 Axes>"
      ]
     },
     "metadata": {},
     "output_type": "display_data"
    }
   ],
   "source": [
    "sns.heatmap(df.corr(), annot=True, cmap='coolwarm')\n",
    "plt.show()"
   ]
  },
  {
   "cell_type": "markdown",
   "id": "756773b7",
   "metadata": {},
   "source": [
    "The correlation table shows that \"First Registration Year\" and \"Year Of Manufactoring\" are practically identical, thus one of them should be removed.\n",
    "\n",
    "\n",
    "# we can see the connections between columns, the closer the value is to one, the more connection there is.\n",
    "\n",
    "for example : The later the car's entry year, the higher the car's price\n",
    "The greater the horsepower of the vehicle, the greater the engine\n",
    "The greater the horse power, the more the price will be accordingly\n",
    "The quantity of kilometers and cost were not closely correlated.\n",
    "A correlation was found between the number of kilometers the vehicle traveled and the number of hands the vehicle\n",
    "passed through.\n",
    "\n",
    "------------"
   ]
  },
  {
   "cell_type": "code",
   "execution_count": 64,
   "id": "ded75862",
   "metadata": {},
   "outputs": [],
   "source": [
    "df = df.drop('First Registration Year', axis=1)"
   ]
  },
  {
   "cell_type": "markdown",
   "id": "c544e436",
   "metadata": {},
   "source": [
    "## Printing some graphical scatterplots to show connections between features:"
   ]
  },
  {
   "cell_type": "code",
   "execution_count": 65,
   "id": "b8ab5f6d",
   "metadata": {},
   "outputs": [
    {
     "data": {
      "image/png": "[encoded data removed]",
      "text/plain": [
       "<Figure size 640x480 with 1 Axes>"
      ]
     },
     "metadata": {},
     "output_type": "display_data"
    }
   ],
   "source": [
    "plt.scatter(df['Horse Power'], df['price'])\n",
    "plt.xlabel('Horse Power')\n",
    "plt.ylabel('Price')\n",
    "plt.title('Horse Power vs. Price')\n",
    "plt.show()"
   ]
  },
  {
   "cell_type": "markdown",
   "id": "a9a1cf58",
   "metadata": {},
   "source": [
    "We can infer that there isn't direct connection between the horse power of a car and its price, because, for example, the car with the most horse power (450) costs less than cars that their horse power's stat is lower."
   ]
  },
  {
   "cell_type": "code",
   "execution_count": 66,
   "id": "13f44410",
   "metadata": {},
   "outputs": [
    {
     "data": {
      "image/png": "[encoded data removed]",
      "text/plain": [
       "<Figure size 640x480 with 1 Axes>"
      ]
     },
     "metadata": {},
     "output_type": "display_data"
    }
   ],
   "source": [
    "plt.hist(df['Kilometers'])\n",
    "plt.xlabel('Kilometers')\n",
    "plt.ylabel('Number of cars')\n",
    "plt.title('Kilometers vs. Number of cars')\n",
    "plt.show()"
   ]
  },
  {
   "cell_type": "markdown",
   "id": "ac202618",
   "metadata": {},
   "source": [
    "The majority of the cars in the DataFrame vary arount 100,000 kms."
   ]
  },
  {
   "cell_type": "code",
   "execution_count": 67,
   "id": "74fbb849",
   "metadata": {},
   "outputs": [
    {
     "data": {
      "image/png": "[encoded data removed]",
      "text/plain": [
       "<Figure size 640x480 with 1 Axes>"
      ]
     },
     "metadata": {},
     "output_type": "display_data"
    }
   ],
   "source": [
    "engine_type_counts = df['Engine Type'].value_counts()\n",
    "\n",
    "plt.bar(engine_type_counts.index, engine_type_counts.values)\n",
    "plt.xlabel('Engine Type')\n",
    "plt.ylabel('Number of cars')\n",
    "plt.title('Engine Type')\n",
    "plt.show()"
   ]
  },
  {
   "cell_type": "markdown",
   "id": "078e75b9",
   "metadata": {},
   "source": [
    "Most of the cars in the DataFrame use gasoline."
   ]
  },
  {
   "cell_type": "markdown",
   "id": "af41cd0a",
   "metadata": {},
   "source": [
    "## Transformation of categorical values to numerical ones\n",
    "\n",
    "Here we used with LabelIncoder and because the column of adapted for the disabled is binary, meaning it contains only yes and no, then we will convert it in a different way."
   ]
  },
  {
   "cell_type": "code",
   "execution_count": 68,
   "id": "677a6357",
   "metadata": {},
   "outputs": [],
   "source": [
    "df['Suitable for Disabilities'] = df['Suitable for Disabilities'].map({'כן':1, 'לא':0})"
   ]
  },
  {
   "cell_type": "code",
   "execution_count": 69,
   "id": "e6fd2a0b",
   "metadata": {},
   "outputs": [],
   "source": [
    "label_encoder = LabelEncoder()\n",
    "\n",
    "categorical_columns = ['car_title', 'Engine Type', 'Transmission', 'Color', 'Current Ownership']\n",
    "\n",
    "for column in categorical_columns:\n",
    "    df[column] = label_encoder.fit_transform(df[column])"
   ]
  },
  {
   "cell_type": "code",
   "execution_count": 70,
   "id": "72a78e05",
   "metadata": {},
   "outputs": [
    {
     "data": {
      "text/html": [
       "<div>\n",
       "<style scoped>\n",
       "    .dataframe tbody tr th:only-of-type {\n",
       "        vertical-align: middle;\n",
       "    }\n",
       "\n",
       "    .dataframe tbody tr th {\n",
       "        vertical-align: top;\n",
       "    }\n",
       "\n",
       "    .dataframe thead th {\n",
       "        text-align: right;\n",
       "    }\n",
       "</style>\n",
       "<table border=\"1\" class=\"dataframe\">\n",
       "  <thead>\n",
       "    <tr style=\"text-align: right;\">\n",
       "      <th></th>\n",
       "      <th>car_title</th>\n",
       "      <th>year_of_manufactoring</th>\n",
       "      <th>num_of_owners</th>\n",
       "      <th>car_engine_size</th>\n",
       "      <th>price</th>\n",
       "      <th>air_pollution_rate</th>\n",
       "      <th>Kilometers</th>\n",
       "      <th>Engine Type</th>\n",
       "      <th>Transmission</th>\n",
       "      <th>Color</th>\n",
       "      <th>Test Valid Until</th>\n",
       "      <th>Current Ownership</th>\n",
       "      <th>Suitable for Disabilities</th>\n",
       "      <th>Horse Power</th>\n",
       "    </tr>\n",
       "  </thead>\n",
       "  <tbody>\n",
       "    <tr>\n",
       "      <th>0</th>\n",
       "      <td>50</td>\n",
       "      <td>2014</td>\n",
       "      <td>1</td>\n",
       "      <td>3604</td>\n",
       "      <td>105000</td>\n",
       "      <td>5</td>\n",
       "      <td>209000</td>\n",
       "      <td>0</td>\n",
       "      <td>1</td>\n",
       "      <td>31</td>\n",
       "      <td>2023</td>\n",
       "      <td>8</td>\n",
       "      <td>0</td>\n",
       "      <td>282</td>\n",
       "    </tr>\n",
       "    <tr>\n",
       "      <th>1</th>\n",
       "      <td>129</td>\n",
       "      <td>2017</td>\n",
       "      <td>1</td>\n",
       "      <td>1999</td>\n",
       "      <td>99000</td>\n",
       "      <td>15</td>\n",
       "      <td>130000</td>\n",
       "      <td>0</td>\n",
       "      <td>1</td>\n",
       "      <td>2</td>\n",
       "      <td>2024</td>\n",
       "      <td>8</td>\n",
       "      <td>0</td>\n",
       "      <td>155</td>\n",
       "    </tr>\n",
       "    <tr>\n",
       "      <th>3</th>\n",
       "      <td>152</td>\n",
       "      <td>2020</td>\n",
       "      <td>1</td>\n",
       "      <td>1998</td>\n",
       "      <td>124000</td>\n",
       "      <td>6</td>\n",
       "      <td>29000</td>\n",
       "      <td>0</td>\n",
       "      <td>1</td>\n",
       "      <td>25</td>\n",
       "      <td>2024</td>\n",
       "      <td>8</td>\n",
       "      <td>0</td>\n",
       "      <td>165</td>\n",
       "    </tr>\n",
       "    <tr>\n",
       "      <th>4</th>\n",
       "      <td>284</td>\n",
       "      <td>2018</td>\n",
       "      <td>1</td>\n",
       "      <td>1498</td>\n",
       "      <td>60000</td>\n",
       "      <td>15</td>\n",
       "      <td>147000</td>\n",
       "      <td>0</td>\n",
       "      <td>1</td>\n",
       "      <td>28</td>\n",
       "      <td>2023</td>\n",
       "      <td>8</td>\n",
       "      <td>0</td>\n",
       "      <td>182</td>\n",
       "    </tr>\n",
       "    <tr>\n",
       "      <th>5</th>\n",
       "      <td>18</td>\n",
       "      <td>2015</td>\n",
       "      <td>2</td>\n",
       "      <td>1364</td>\n",
       "      <td>18000</td>\n",
       "      <td>15</td>\n",
       "      <td>165000</td>\n",
       "      <td>0</td>\n",
       "      <td>1</td>\n",
       "      <td>43</td>\n",
       "      <td>2024</td>\n",
       "      <td>8</td>\n",
       "      <td>0</td>\n",
       "      <td>140</td>\n",
       "    </tr>\n",
       "  </tbody>\n",
       "</table>\n",
       "</div>"
      ],
      "text/plain": [
       "   car_title  year_of_manufactoring  num_of_owners  car_engine_size   price  \\\n",
       "0         50                   2014              1             3604  105000   \n",
       "1        129                   2017              1             1999   99000   \n",
       "3        152                   2020              1             1998  124000   \n",
       "4        284                   2018              1             1498   60000   \n",
       "5         18                   2015              2             1364   18000   \n",
       "\n",
       "   air_pollution_rate  Kilometers  Engine Type  Transmission  Color  \\\n",
       "0                   5      209000            0             1     31   \n",
       "1                  15      130000            0             1      2   \n",
       "3                   6       29000            0             1     25   \n",
       "4                  15      147000            0             1     28   \n",
       "5                  15      165000            0             1     43   \n",
       "\n",
       "   Test Valid Until  Current Ownership  Suitable for Disabilities  Horse Power  \n",
       "0              2023                  8                          0          282  \n",
       "1              2024                  8                          0          155  \n",
       "3              2024                  8                          0          165  \n",
       "4              2023                  8                          0          182  \n",
       "5              2024                  8                          0          140  "
      ]
     },
     "execution_count": 70,
     "metadata": {},
     "output_type": "execute_result"
    }
   ],
   "source": [
    "df.head()"
   ]
  },
  {
   "cell_type": "code",
   "execution_count": 71,
   "id": "98f5d36e",
   "metadata": {},
   "outputs": [
    {
     "data": {
      "text/plain": [
       "44072"
      ]
     },
     "execution_count": 71,
     "metadata": {},
     "output_type": "execute_result"
    }
   ],
   "source": [
    "df.size"
   ]
  },
  {
   "cell_type": "markdown",
   "id": "112b8732",
   "metadata": {},
   "source": [
    "Total of 44072 entries in the dataset after cleaning."
   ]
  },
  {
   "cell_type": "markdown",
   "id": "61fd1875",
   "metadata": {},
   "source": [
    "-------------\n",
    "Saving the processed data into a new csv file:"
   ]
  },
  {
   "cell_type": "code",
   "execution_count": 30,
   "id": "bf593318",
   "metadata": {},
   "outputs": [],
   "source": [
    "df.to_csv('processed_yad2.csv', index=False)"
   ]
  }
 ],
 "metadata": {
  "kernelspec": {
   "display_name": "Python 3 (ipykernel)",
   "language": "python",
   "name": "python3"
  },
  "language_info": {
   "codemirror_mode": {
    "name": "ipython",
    "version": 3
   },
   "file_extension": ".py",
   "mimetype": "text/x-python",
   "name": "python",
   "nbconvert_exporter": "python",
   "pygments_lexer": "ipython3",
   "version": "3.10.9"
  }
 },
 "nbformat": 4,
 "nbformat_minor": 5
}
