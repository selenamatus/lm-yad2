{
 "cells": [
  {
   "cell_type": "markdown",
   "id": "8a872149",
   "metadata": {},
   "source": [
    "# Machine Learning"
   ]
  },
  {
   "cell_type": "markdown",
   "id": "d1930f1a",
   "metadata": {},
   "source": [
    "Let's start with imports and reading the CSV file:"
   ]
  },
  {
   "cell_type": "code",
   "execution_count": 1,
   "id": "f5617c8a",
   "metadata": {},
   "outputs": [],
   "source": [
    "import pandas as pd\n",
    "from sklearn.model_selection import train_test_split\n",
    "from sklearn.linear_model import LinearRegression\n",
    "from sklearn.ensemble import RandomForestRegressor\n",
    "from sklearn.metrics import mean_squared_error, mean_absolute_error, r2_score"
   ]
  },
  {
   "cell_type": "code",
   "execution_count": 2,
   "id": "65dcb29b",
   "metadata": {},
   "outputs": [],
   "source": [
    "df = pd.read_csv('processed_yad2.csv')"
   ]
  },
  {
   "cell_type": "code",
   "execution_count": 3,
   "id": "bc674667",
   "metadata": {},
   "outputs": [],
   "source": [
    "# Separate the features and the label\n",
    "X = df.drop(\"price\", axis=1)\n",
    "y = df[\"price\"]"
   ]
  },
  {
   "cell_type": "code",
   "execution_count": null,
   "id": "00fc948b",
   "metadata": {},
   "outputs": [],
   "source": [
    "# Split the data into training and test\n",
    "X_train, X_test, y_train, y_test = train_test_split(X, y, test_size=0.2, random_state=42)"
   ]
  },
  {
   "cell_type": "markdown",
   "id": "d0f23eb9",
   "metadata": {},
   "source": [
    "add to presentation"
   ]
  },
  {
   "cell_type": "code",
   "execution_count": 5,
   "id": "07ec6354",
   "metadata": {},
   "outputs": [
    {
     "name": "stdout",
     "output_type": "stream",
     "text": [
      "Linear Regression:\n",
      "Mean Squared Error: 584854219.4909645\n",
      "Mean Absolute Error: 17545.061388859987\n",
      "R-squared Score: 0.7076515775425436\n",
      "\n"
     ]
    }
   ],
   "source": [
    "linear_regression = LinearRegression()\n",
    "\n",
    "linear_regression.fit(X_train, y_train)\n",
    "linear_predict = linear_regression.predict(X_test)\n",
    "\n",
    "mse = mean_squared_error(y_test, linear_predict)\n",
    "mae = mean_absolute_error(y_test, linear_predict)\n",
    "r2 = r2_score(y_test, linear_predict)\n",
    "\n",
    "print(\"Linear Regression:\")\n",
    "print(\"Mean Squared Error:\", mse)\n",
    "print(\"Mean Absolute Error:\", mae)\n",
    "print(\"R-squared Score:\", r2)\n",
    "print()"
   ]
  },
  {
   "cell_type": "code",
   "execution_count": 6,
   "id": "c8a29546",
   "metadata": {},
   "outputs": [
    {
     "name": "stdout",
     "output_type": "stream",
     "text": [
      "Random Forest:\n",
      "Mean Squared Error: 170194355.3422403\n",
      "Mean Absolute Error: 7624.309938016529\n",
      "R-squared Score: 0.9149257205688393\n"
     ]
    }
   ],
   "source": [
    "random_forest = RandomForestRegressor()\n",
    "\n",
    "random_forest.fit(X_train, y_train)\n",
    "random_forest_predict = random_forest.predict(X_test)\n",
    "\n",
    "mse = mean_squared_error(y_test, random_forest_predict)\n",
    "mae = mean_absolute_error(y_test, random_forest_predict)\n",
    "r2 = r2_score(y_test, random_forest_predict)\n",
    "\n",
    "print(\"Random Forest:\")\n",
    "print(\"Mean Squared Error:\", mse)\n",
    "print(\"Mean Absolute Error:\", mae)\n",
    "print(\"R-squared Score:\", r2)"
   ]
  }
 ],
 "metadata": {
  "kernelspec": {
   "display_name": "Python 3 (ipykernel)",
   "language": "python",
   "name": "python3"
  },
  "language_info": {
   "codemirror_mode": {
    "name": "ipython",
    "version": 3
   },
   "file_extension": ".py",
   "mimetype": "text/x-python",
   "name": "python",
   "nbconvert_exporter": "python",
   "pygments_lexer": "ipython3",
   "version": "3.10.9"
  }
 },
 "nbformat": 4,
 "nbformat_minor": 5
}
